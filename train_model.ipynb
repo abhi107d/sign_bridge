{
 "cells": [
  {
   "cell_type": "markdown",
   "metadata": {},
   "source": [
    "<h1>sign laungauge interpertation</h1>\n",
    "\n"
   ]
  },
  {
   "cell_type": "markdown",
   "metadata": {},
   "source": [
    "<h3>Import libraryes</h3>"
   ]
  },
  {
   "cell_type": "code",
   "execution_count": 1,
   "metadata": {},
   "outputs": [],
   "source": [
    "import tensorflow as tf\n",
    "import cv2\n",
    "import matplotlib as plt\n",
    "import numpy as np\n",
    "import time\n",
    "import mediapipe as mp"
   ]
  },
  {
   "cell_type": "markdown",
   "metadata": {},
   "source": [
    "<h3>Recording frames & getting Landmarks</h3>\n"
   ]
  },
  {
   "cell_type": "code",
   "execution_count": 2,
   "metadata": {},
   "outputs": [],
   "source": [
    "mp_hol=mp.solutions.holistic\n",
    "mp_draw=mp.solutions.drawing_utils"
   ]
  },
  {
   "cell_type": "code",
   "execution_count": 3,
   "metadata": {},
   "outputs": [],
   "source": [
    "def draw(frame,landmarks,mp_draw,mp_hol):\n",
    "        mp_draw.draw_landmarks(frame,landmarks.face_landmarks,mp_hol.FACEMESH_CONTOURS,\n",
    "                              mp_draw.DrawingSpec(color=(245,117,66), thickness=1, circle_radius=1),\n",
    "                              mp_draw.DrawingSpec(color=(245,117,66), thickness=1, circle_radius=1))\n",
    "        mp_draw.draw_landmarks(frame,landmarks.left_hand_landmarks,mp_hol.HAND_CONNECTIONS,\n",
    "                              mp_draw.DrawingSpec(color=(245,117,66), thickness=1, circle_radius=1),\n",
    "                              mp_draw.DrawingSpec(color=(245,117,66), thickness=1, circle_radius=1))\n",
    "        mp_draw.draw_landmarks(frame,landmarks.right_hand_landmarks,mp_hol.HAND_CONNECTIONS,\n",
    "                              mp_draw.DrawingSpec(color=(245,117,66), thickness=1, circle_radius=1),\n",
    "                              mp_draw.DrawingSpec(color=(245,117,66), thickness=1, circle_radius=1))\n",
    "        mp_draw.draw_landmarks(frame,landmarks.pose_landmarks,mp_hol.POSE_CONNECTIONS,\n",
    "                              mp_draw.DrawingSpec(color=(245,117,66), thickness=1, circle_radius=1),\n",
    "                              mp_draw.DrawingSpec(color=(245,117,66), thickness=1, circle_radius=1))"
   ]
  },
  {
   "cell_type": "code",
   "execution_count": 4,
   "metadata": {},
   "outputs": [],
   "source": [
    "#just capture\n",
    "cam=cv2.VideoCapture(0)\n",
    "\n",
    "with mp_hol.Holistic(min_detection_confidence=0.5,min_tracking_confidence=0.5) as hol:\n",
    "    while cam.isOpened():\n",
    "        ret,frame=cam.read()\n",
    "        if not ret:\n",
    "            break\n",
    "        image=cv2.cvtColor(frame,cv2.COLOR_BGR2RGB)\n",
    "        landmarks=hol.process(image)\n",
    "           \n",
    "        #drawing on image\n",
    "        draw(frame,landmarks,mp_draw,mp_hol)\n",
    "        \n",
    "        frame=cv2.flip(frame,1)\n",
    "        cv2.imshow(\"capture\",frame)\n",
    "        if cv2.waitKey(10) & 0xFF == ord('q'):\n",
    "            break\n",
    "    cam.release()\n",
    "    cv2.destroyAllWindows()\n"
   ]
  },
  {
   "cell_type": "markdown",
   "metadata": {},
   "source": [
    "<h3>Extracting landmarks</h3>"
   ]
  },
  {
   "cell_type": "code",
   "execution_count": 5,
   "metadata": {},
   "outputs": [],
   "source": [
    "def extract_landmarks(landmarks):\n",
    "    if landmarks.pose_landmarks:\n",
    "        pose=np.array([[p.x,p.y,p.z,p.visibility] for p in landmarks.pose_landmarks.landmark]).flatten()\n",
    "    else:\n",
    "        pose=np.zeros(132,)\n",
    "    if landmarks.left_hand_landmarks:\n",
    "        left_hand=np.array([[p.x,p.y,p.z] for p in landmarks.left_hand_landmarks.landmark]).flatten()\n",
    "    else:\n",
    "        left_hand=np.zeros(63,)\n",
    "    if landmarks.right_hand_landmarks:\n",
    "        right_hand=np.array([[p.x,p.y,p.z] for p in landmarks.right_hand_landmarks.landmark]).flatten()\n",
    "    else:\n",
    "        right_hand=np.zeros(63,)\n",
    "    if landmarks.face_landmarks:\n",
    "        face=np.array([[p.x,p.y,p.z] for p in landmarks.face_landmarks.landmark]).flatten()\n",
    "    else:\n",
    "        face=np.zeros(1404,)\n",
    "    return np.concatenate([face,pose,left_hand,right_hand])\n",
    "        "
   ]
  },
  {
   "cell_type": "code",
   "execution_count": 84,
   "metadata": {},
   "outputs": [
    {
     "name": "stdout",
     "output_type": "stream",
     "text": [
      "(132,) (63,) (63,) (1404,)\n"
     ]
    }
   ],
   "source": [
    "print(pose.shape,right_hand.shape,left_hand.shape,face.shape)"
   ]
  },
  {
   "cell_type": "code",
   "execution_count": 6,
   "metadata": {},
   "outputs": [
    {
     "data": {
      "text/plain": [
       "(1662,)"
      ]
     },
     "execution_count": 6,
     "metadata": {},
     "output_type": "execute_result"
    }
   ],
   "source": [
    "extract_landmarks(landmarks).shape"
   ]
  },
  {
   "cell_type": "markdown",
   "metadata": {},
   "source": [
    "### collecting data"
   ]
  },
  {
   "cell_type": "markdown",
   "metadata": {},
   "source": [
    "<h4>Making folders</h4>"
   ]
  },
  {
   "cell_type": "code",
   "execution_count": 7,
   "metadata": {},
   "outputs": [],
   "source": [
    "import os"
   ]
  },
  {
   "cell_type": "code",
   "execution_count": 17,
   "metadata": {},
   "outputs": [],
   "source": [
    "data=os.path.join(\"Data\")\n",
    "no_frames=30\n",
    "no_video=30\n",
    "actions=[\"thanks\",\"thanks\"]\n"
   ]
  },
  {
   "cell_type": "code",
   "execution_count": 9,
   "metadata": {},
   "outputs": [],
   "source": [
    "for action in actions:\n",
    "    for vid in range(no_video):\n",
    "        try:\n",
    "            os.makedirs(os.path.join(data,action,str(vid)))\n",
    "        except:\n",
    "            pass"
   ]
  },
  {
   "cell_type": "markdown",
   "metadata": {},
   "source": [
    "<h4>collecting frames</h4>"
   ]
  },
  {
   "cell_type": "code",
   "execution_count": 18,
   "metadata": {},
   "outputs": [],
   "source": [
    "cam=cv2.VideoCapture(0)\n",
    "flag=False\n",
    "with mp_hol.Holistic(min_detection_confidence=0.5,min_tracking_confidence=0.5) as hol:\n",
    "    for action in actions:\n",
    "        if flag:\n",
    "                break\n",
    "        for vid in range(no_video):\n",
    "            if flag:\n",
    "                break\n",
    "            for frame_no in range(no_frames):\n",
    "                \n",
    "            \n",
    "                ret,frame=cam.read()\n",
    "                if not ret:\n",
    "                    break\n",
    "                image=cv2.cvtColor(frame,cv2.COLOR_BGR2RGB)\n",
    "                landmarks=hol.process(image)\n",
    "                   \n",
    "                #drawing on image\n",
    "                draw(frame,landmarks,mp_draw,mp_hol)\n",
    "                frame=cv2.flip(frame,1)\n",
    "                \n",
    "                if frame_no==0:\n",
    "                    cv2.putText(frame,\"Starting collection\",(0,50),\n",
    "                                cv2.FONT_HERSHEY_SIMPLEX,1,(255,255,0),4,cv2.LINE_AA)\n",
    "                    cv2.putText(frame,\"collecting frame for {} video no {} Frame no {}\".format(action,vid,frame_no),(120,20),\n",
    "                                cv2.FONT_HERSHEY_SIMPLEX,0.5,(0,0,255),1,cv2.LINE_AA)\n",
    "                    cv2.imshow(\"capture\",frame)\n",
    "                    if cv2.waitKey(50000) or 0xFF == ord('c'): #change capture technique\n",
    "                        continue\n",
    "                else:\n",
    "                    cv2.putText(frame,\"collecting frame for {} video no {} Frame no {}\".format(action,vid,frame_no),(120,20),\n",
    "                                cv2.FONT_HERSHEY_SIMPLEX,0.5,(0,0,255),1,cv2.LINE_AA)\n",
    "\n",
    "                \n",
    "                feature=extract_landmarks(landmarks)\n",
    "                path=os.path.join(data,action,str(vid),str(frame_no))\n",
    "                np.save(path,feature)\n",
    "\n",
    "                \n",
    "                    \n",
    "                cv2.imshow(\"capture\",frame)\n",
    "                if cv2.waitKey(10) & 0xFF == ord('q'):\n",
    "                    flag=True\n",
    "                    break\n",
    "        \n",
    "    cam.release()\n",
    "    cv2.destroyAllWindows()\n"
   ]
  },
  {
   "cell_type": "code",
   "execution_count": 15,
   "metadata": {},
   "outputs": [],
   "source": [
    "cam.release()\n",
    "cv2.destroyAllWindows()"
   ]
  },
  {
   "cell_type": "code",
   "execution_count": 2,
   "metadata": {},
   "outputs": [
    {
     "name": "stdout",
     "output_type": "stream",
     "text": [
      "Num GPUs Available:  1\n"
     ]
    }
   ],
   "source": [
    "print(\"Num GPUs Available: \", len(tf.config.list_physical_devices('GPU')))"
   ]
  }
 ],
 "metadata": {
  "kernelspec": {
   "display_name": "Python 3 (ipykernel)",
   "language": "python",
   "name": "python3"
  },
  "language_info": {
   "codemirror_mode": {
    "name": "ipython",
    "version": 3
   },
   "file_extension": ".py",
   "mimetype": "text/x-python",
   "name": "python",
   "nbconvert_exporter": "python",
   "pygments_lexer": "ipython3",
   "version": "3.10.14"
  }
 },
 "nbformat": 4,
 "nbformat_minor": 4
}
