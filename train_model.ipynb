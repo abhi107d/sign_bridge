{
 "cells": [
  {
   "cell_type": "markdown",
   "metadata": {},
   "source": [
    "<h1>sign laungauge interpertation</h1>\n",
    "\n"
   ]
  },
  {
   "cell_type": "markdown",
   "metadata": {},
   "source": [
    "<h3>Import libraryes</h3>"
   ]
  },
  {
   "cell_type": "code",
   "execution_count": 15,
   "metadata": {},
   "outputs": [],
   "source": [
    "import tensorflow as tf\n",
    "import cv2\n",
    "import matplotlib as plt\n",
    "import numpy as np\n",
    "import time\n",
    "import mediapipe as mp"
   ]
  },
  {
   "cell_type": "markdown",
   "metadata": {},
   "source": [
    "<h3>Recording frames & getting Landmarks</h3>\n"
   ]
  },
  {
   "cell_type": "code",
   "execution_count": 17,
   "metadata": {},
   "outputs": [],
   "source": [
    "mp_hol=mp.solutions.holistic\n",
    "mp_draw=mp.solutions.drawing_utils"
   ]
  },
  {
   "cell_type": "code",
   "execution_count": 43,
   "metadata": {},
   "outputs": [],
   "source": [
    "cam=cv2.VideoCapture(0)\n",
    "\n",
    "with mp_hol.Holistic(min_detection_confidence=0.5,min_tracking_confidence=0.5) as hol:\n",
    "    while cam.isOpened():\n",
    "        ret,frame=cam.read()\n",
    "        frame=cv2.flip(frame,1)\n",
    "        image=cv2.cvtColor(frame,cv2.COLOR_BGR2RGB)\n",
    "        landmarks=hol.process(image)\n",
    "           \n",
    "        #drawing on image\n",
    "        mp_draw.draw_landmarks(frame,landmarks.face_landmarks,mp_hol.FACEMESH_CONTOURS,\n",
    "                              mp_draw.DrawingSpec(color=(245,117,66), thickness=1, circle_radius=1),\n",
    "                              mp_draw.DrawingSpec(color=(245,117,66), thickness=1, circle_radius=1))\n",
    "        mp_draw.draw_landmarks(frame,landmarks.left_hand_landmarks,mp_hol.HAND_CONNECTIONS,\n",
    "                              mp_draw.DrawingSpec(color=(245,117,66), thickness=1, circle_radius=1),\n",
    "                              mp_draw.DrawingSpec(color=(245,117,66), thickness=1, circle_radius=1))\n",
    "        mp_draw.draw_landmarks(frame,landmarks.right_hand_landmarks,mp_hol.HAND_CONNECTIONS,\n",
    "                              mp_draw.DrawingSpec(color=(245,117,66), thickness=1, circle_radius=1),\n",
    "                              mp_draw.DrawingSpec(color=(245,117,66), thickness=1, circle_radius=1))\n",
    "        mp_draw.draw_landmarks(frame,landmarks.pose_landmarks,mp_hol.POSE_CONNECTIONS,\n",
    "                              mp_draw.DrawingSpec(color=(245,117,66), thickness=1, circle_radius=1),\n",
    "                              mp_draw.DrawingSpec(color=(245,117,66), thickness=1, circle_radius=1))\n",
    "        if not ret:\n",
    "            break\n",
    "        cv2.imshow(\"capture\",frame)\n",
    "        if cv2.waitKey(10) & 0xFF == ord('q'):\n",
    "            break\n",
    "    cam.release()\n",
    "    cv2.destroyAllWindows()\n"
   ]
  },
  {
   "cell_type": "markdown",
   "metadata": {},
   "source": []
  },
  {
   "cell_type": "code",
   "execution_count": 31,
   "metadata": {},
   "outputs": [
    {
     "name": "stdout",
     "output_type": "stream",
     "text": [
      "Num GPUs Available:  1\n"
     ]
    }
   ],
   "source": [
    "print(\"Num GPUs Available: \", len(tf.config.list_physical_devices('GPU')))"
   ]
  },
  {
   "cell_type": "code",
   "execution_count": null,
   "metadata": {},
   "outputs": [],
   "source": []
  },
  {
   "cell_type": "code",
   "execution_count": null,
   "metadata": {},
   "outputs": [],
   "source": []
  }
 ],
 "metadata": {
  "kernelspec": {
   "display_name": "Python 3 (ipykernel)",
   "language": "python",
   "name": "python3"
  },
  "language_info": {
   "codemirror_mode": {
    "name": "ipython",
    "version": 3
   },
   "file_extension": ".py",
   "mimetype": "text/x-python",
   "name": "python",
   "nbconvert_exporter": "python",
   "pygments_lexer": "ipython3",
   "version": "3.10.14"
  }
 },
 "nbformat": 4,
 "nbformat_minor": 4
}
